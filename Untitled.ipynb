{
 "cells": [
  {
   "cell_type": "code",
   "execution_count": 1,
   "metadata": {},
   "outputs": [],
   "source": [
    "import json\n",
    "from pprint import pprint"
   ]
  },
  {
   "cell_type": "code",
   "execution_count": 2,
   "metadata": {},
   "outputs": [],
   "source": [
    "with open('write_data_08552c21ba9b5d83827d248733728058_1505920921.json') as infile:\n",
    "    # decode json\n",
    "    json_data = json.load(infile)"
   ]
  },
  {
   "cell_type": "code",
   "execution_count": 3,
   "metadata": {},
   "outputs": [
    {
     "name": "stdout",
     "output_type": "stream",
     "text": [
      "Original File:\n",
      "\n",
      "{'blocks': [{'messages': [{'0x420': {'bus_id': 1,\n",
      "                                     'name': 'Powertrain_Driver_Info_1',\n",
      "                                     'signals': {'FUEL_FLOW': {'bit_position': 16,\n",
      "                                                               'bit_size': 8,\n",
      "                                                               'factor': 2.0833e-05,\n",
      "                                                               'generic_name': '1-fuel_consumed_since_restart',\n",
      "                                                               'max_value': 0.0052916,\n",
      "                                                               'min_value': 0,\n",
      "                                                               'offset': 0,\n",
      "                                                               'value': 2.0833e-05},\n",
      "                                                 'ODO_ROLLING_CNT': {'bit_position': 8,\n",
      "                                                                     'bit_size': 8,\n",
      "                                                                     'factor': 0.000125,\n",
      "                                                                     'generic_name': '1-odometer',\n",
      "                                                                     'max_value': 0.03175,\n",
      "                                                                     'min_value': 0,\n",
      "                                                                     'offset': 0,\n",
      "                                                                     'value': 0.03175}}}},\n",
      "                          {'0x435': {'bus_id': 1,\n",
      "                                     'name': 'Cluster_Information_6',\n",
      "                                     'signals': {'TotalDistance': {'bit_position': 48,\n",
      "                                                                   'bit_size': 24,\n",
      "                                                                   'factor': 1,\n",
      "                                                                   'generic_name': '1-total_odometer',\n",
      "                                                                   'max_value': 1000000,\n",
      "                                                                   'min_value': 0,\n",
      "                                                                   'offset': 0,\n",
      "                                                                   'value': 100}}}}],\n",
      "             'write_time': 1505920980000},\n",
      "            {'messages': [{'0x420': {'bus_id': 1,\n",
      "                                     'name': 'Powertrain_Driver_Info_1',\n",
      "                                     'signals': {'FUEL_FLOW': {'bit_position': 16,\n",
      "                                                               'bit_size': 8,\n",
      "                                                               'factor': 2.0833e-05,\n",
      "                                                               'generic_name': '2-fuel_consumed_since_restart',\n",
      "                                                               'max_value': 0.0052916,\n",
      "                                                               'min_value': 0,\n",
      "                                                               'offset': 0,\n",
      "                                                               'value': 0.0052916},\n",
      "                                                 'ODO_ROLLING_CNT': {'bit_position': 8,\n",
      "                                                                     'bit_size': 8,\n",
      "                                                                     'factor': 0.000125,\n",
      "                                                                     'generic_name': '2-odometer',\n",
      "                                                                     'max_value': 0.03175,\n",
      "                                                                     'min_value': 0,\n",
      "                                                                     'offset': 0,\n",
      "                                                                     'value': 0.000125}}}},\n",
      "                          {'0x435': {'bus_id': 1,\n",
      "                                     'name': 'Cluster_Information_6',\n",
      "                                     'signals': {'TotalDistance': {'bit_position': 48,\n",
      "                                                                   'bit_size': 24,\n",
      "                                                                   'factor': 1,\n",
      "                                                                   'generic_name': '2-total_odometer',\n",
      "                                                                   'max_value': 1000000,\n",
      "                                                                   'min_value': 0,\n",
      "                                                                   'offset': 0,\n",
      "                                                                   'value': 65535}}}}],\n",
      "             'write_time': 1505920990000}]}\n"
     ]
    }
   ],
   "source": [
    "print ('Original File:\\n')\n",
    "pprint(json_data)"
   ]
  },
  {
   "cell_type": "code",
   "execution_count": 4,
   "metadata": {},
   "outputs": [
    {
     "name": "stdout",
     "output_type": "stream",
     "text": [
      "\n",
      "\n",
      "Changed File: \n",
      "\n",
      "{'blocks': [{'messages': [{'0x420': {'bus_id': 1,\n",
      "                                     'name': 'Powertrain_Driver_Info_1',\n",
      "                                     'signals': {'FUEL_FLOW': {'bit_position': 16,\n",
      "                                                               'bit_size': 8,\n",
      "                                                               'factor': 2.0833e-05,\n",
      "                                                               'generic_name': '1-fuel_consumed_since_restart',\n",
      "                                                               'max_value': 0.0052916,\n",
      "                                                               'min_value': 0,\n",
      "                                                               'offset': 0,\n",
      "                                                               'value': 0.9999999999},\n",
      "                                                 'ODO_ROLLING_CNT': {'bit_position': 8,\n",
      "                                                                     'bit_size': 8,\n",
      "                                                                     'factor': 0.000125,\n",
      "                                                                     'generic_name': '1-odometer',\n",
      "                                                                     'max_value': 0.03175,\n",
      "                                                                     'min_value': 0,\n",
      "                                                                     'offset': 0,\n",
      "                                                                     'value': 0.03175}}}},\n",
      "                          {'0x435': {'bus_id': 1,\n",
      "                                     'name': 'Cluster_Information_6',\n",
      "                                     'signals': {'TotalDistance': {'bit_position': 48,\n",
      "                                                                   'bit_size': 24,\n",
      "                                                                   'factor': 1,\n",
      "                                                                   'generic_name': '1-total_odometer',\n",
      "                                                                   'max_value': 1000000,\n",
      "                                                                   'min_value': 0,\n",
      "                                                                   'offset': 0,\n",
      "                                                                   'value': 100}}}}],\n",
      "             'write_time': 1505920980000},\n",
      "            {'messages': [{'0x420': {'bus_id': 1,\n",
      "                                     'name': 'Powertrain_Driver_Info_1',\n",
      "                                     'signals': {'FUEL_FLOW': {'bit_position': 16,\n",
      "                                                               'bit_size': 8,\n",
      "                                                               'factor': 2.0833e-05,\n",
      "                                                               'generic_name': '2-fuel_consumed_since_restart',\n",
      "                                                               'max_value': 0.0052916,\n",
      "                                                               'min_value': 0,\n",
      "                                                               'offset': 0,\n",
      "                                                               'value': 0.0052916},\n",
      "                                                 'ODO_ROLLING_CNT': {'bit_position': 8,\n",
      "                                                                     'bit_size': 8,\n",
      "                                                                     'factor': 0.000125,\n",
      "                                                                     'generic_name': '2-odometer',\n",
      "                                                                     'max_value': 0.03175,\n",
      "                                                                     'min_value': 0,\n",
      "                                                                     'offset': 0,\n",
      "                                                                     'value': 0.000125}}}},\n",
      "                          {'0x435': {'bus_id': 1,\n",
      "                                     'name': 'Cluster_Information_6',\n",
      "                                     'signals': {'TotalDistance': {'bit_position': 48,\n",
      "                                                                   'bit_size': 24,\n",
      "                                                                   'factor': 1,\n",
      "                                                                   'generic_name': '2-total_odometer',\n",
      "                                                                   'max_value': 1000000,\n",
      "                                                                   'min_value': 0,\n",
      "                                                                   'offset': 0,\n",
      "                                                                   'value': 65535}}}}],\n",
      "             'write_time': 1505920990000}]}\n"
     ]
    }
   ],
   "source": [
    "json_data[\"blocks\"][0][\"messages\"][0][\"0x420\"][\"signals\"][\"FUEL_FLOW\"][\"value\"] = 0.9999999999\n",
    "print ('\\n\\nChanged File: \\n')\n",
    "pprint (json_data)"
   ]
  },
  {
   "cell_type": "code",
   "execution_count": 5,
   "metadata": {},
   "outputs": [],
   "source": [
    "with open('new_file.json', 'w') as outfile:\n",
    "    # indent, separators and sort_keys is only important for pretty printing. otherwise the file would only have one very long line\n",
    "    json.dump(json_data, outfile, indent=4, separators=(',', ': '), sort_keys=True)"
   ]
  },
  {
   "cell_type": "code",
   "execution_count": null,
   "metadata": {},
   "outputs": [],
   "source": []
  }
 ],
 "metadata": {
  "kernelspec": {
   "display_name": "Python 3",
   "language": "python",
   "name": "python3"
  },
  "language_info": {
   "codemirror_mode": {
    "name": "ipython",
    "version": 3
   },
   "file_extension": ".py",
   "mimetype": "text/x-python",
   "name": "python",
   "nbconvert_exporter": "python",
   "pygments_lexer": "ipython3",
   "version": "3.6.5"
  }
 },
 "nbformat": 4,
 "nbformat_minor": 2
}
